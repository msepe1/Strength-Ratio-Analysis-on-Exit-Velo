{
 "cells": [
  {
   "cell_type": "markdown",
   "metadata": {},
   "source": [
    "# Strength Ratio Analysis on Exit Velocitym (Tee)"
   ]
  },
  {
   "cell_type": "code",
   "execution_count": 2,
   "metadata": {},
   "outputs": [
    {
     "name": "stdout",
     "output_type": "stream",
     "text": [
      "[1.20879121 1.26865672 1.         1.10958904 1.06153846 1.26865672\n",
      " 1.25675676 1.31884058 1.11111111 1.14545455]\n"
     ]
    }
   ],
   "source": [
    "import numpy as np\n",
    "\n",
    "import pandas as pd\n",
    "\n",
    "dead_lift = np.array([550,425,315,405,345,425,465,455,350,315],dtype = np.float)\n",
    "\n",
    "squat = np.array([455,335,315,365,325,335,370,345,315,275],dtype = np.float)\n",
    "\n",
    "exit_velocity = np.array([94,87,83,84,83,91,90,97,75,84],dtype = np.float)\n",
    "\n",
    "ratio = dead_lift/squat\n",
    "\n",
    "subjects = np.arange(0,10)\n",
    "\n",
    "print(ratio)"
   ]
  },
  {
   "cell_type": "markdown",
   "metadata": {},
   "source": [
    "### Turning the arrays of data into a clean Pandas dataframe"
   ]
  },
  {
   "cell_type": "code",
   "execution_count": 3,
   "metadata": {},
   "outputs": [
    {
     "name": "stdout",
     "output_type": "stream",
     "text": [
      "   Dead Lift  Squat     Ratio  Exit Velocity\n",
      "0      550.0  455.0  1.208791           94.0\n",
      "1      425.0  335.0  1.268657           87.0\n",
      "2      315.0  315.0  1.000000           83.0\n",
      "3      405.0  365.0  1.109589           84.0\n",
      "4      345.0  325.0  1.061538           83.0\n",
      "5      425.0  335.0  1.268657           91.0\n",
      "6      465.0  370.0  1.256757           90.0\n",
      "7      455.0  345.0  1.318841           97.0\n",
      "8      350.0  315.0  1.111111           75.0\n",
      "9      315.0  275.0  1.145455           84.0\n"
     ]
    }
   ],
   "source": [
    "data_ = np.array([dead_lift, squat, ratio, exit_velocity])\n",
    "\n",
    "data = data_.transpose()\n",
    "\n",
    "df = pd.DataFrame(data, columns= [ 'Dead Lift', 'Squat', 'Ratio', 'Exit Velocity'])\n",
    "\n",
    "print(df)"
   ]
  },
  {
   "cell_type": "markdown",
   "metadata": {},
   "source": [
    "### Sorting data by player "
   ]
  },
  {
   "cell_type": "code",
   "execution_count": 4,
   "metadata": {},
   "outputs": [
    {
     "name": "stdout",
     "output_type": "stream",
     "text": [
      "\n",
      "player number: 0 \n",
      "-------------\n",
      "Dead Lift        550.000000\n",
      "Squat            455.000000\n",
      "Ratio              1.208791\n",
      "Exit Velocity     94.000000\n",
      "Name: 0, dtype: float64\n",
      "\n",
      "player number: 1 \n",
      "-------------\n",
      "Dead Lift        425.000000\n",
      "Squat            335.000000\n",
      "Ratio              1.268657\n",
      "Exit Velocity     87.000000\n",
      "Name: 1, dtype: float64\n",
      "\n",
      "player number: 2 \n",
      "-------------\n",
      "Dead Lift        315.0\n",
      "Squat            315.0\n",
      "Ratio              1.0\n",
      "Exit Velocity     83.0\n",
      "Name: 2, dtype: float64\n",
      "\n",
      "player number: 3 \n",
      "-------------\n",
      "Dead Lift        405.000000\n",
      "Squat            365.000000\n",
      "Ratio              1.109589\n",
      "Exit Velocity     84.000000\n",
      "Name: 3, dtype: float64\n",
      "\n",
      "player number: 4 \n",
      "-------------\n",
      "Dead Lift        345.000000\n",
      "Squat            325.000000\n",
      "Ratio              1.061538\n",
      "Exit Velocity     83.000000\n",
      "Name: 4, dtype: float64\n",
      "\n",
      "player number: 5 \n",
      "-------------\n",
      "Dead Lift        425.000000\n",
      "Squat            335.000000\n",
      "Ratio              1.268657\n",
      "Exit Velocity     91.000000\n",
      "Name: 5, dtype: float64\n",
      "\n",
      "player number: 6 \n",
      "-------------\n",
      "Dead Lift        465.000000\n",
      "Squat            370.000000\n",
      "Ratio              1.256757\n",
      "Exit Velocity     90.000000\n",
      "Name: 6, dtype: float64\n",
      "\n",
      "player number: 7 \n",
      "-------------\n",
      "Dead Lift        455.000000\n",
      "Squat            345.000000\n",
      "Ratio              1.318841\n",
      "Exit Velocity     97.000000\n",
      "Name: 7, dtype: float64\n",
      "\n",
      "player number: 8 \n",
      "-------------\n",
      "Dead Lift        350.000000\n",
      "Squat            315.000000\n",
      "Ratio              1.111111\n",
      "Exit Velocity     75.000000\n",
      "Name: 8, dtype: float64\n",
      "\n",
      "player number: 9 \n",
      "-------------\n",
      "Dead Lift        315.000000\n",
      "Squat            275.000000\n",
      "Ratio              1.145455\n",
      "Exit Velocity     84.000000\n",
      "Name: 9, dtype: float64\n"
     ]
    }
   ],
   "source": [
    "import matplotlib.pyplot as plt\n",
    "\n",
    "for index,row in df.iterrows():\n",
    "   print('\\nplayer number:',index, '\\n-------------')\n",
    "   print(row)"
   ]
  },
  {
   "cell_type": "markdown",
   "metadata": {},
   "source": [
    "### Displaying obvious corellation between the squat and the dead lift"
   ]
  },
  {
   "cell_type": "code",
   "execution_count": 5,
   "metadata": {},
   "outputs": [
    {
     "data": {
      "text/plain": [
       "0.8981277726290088"
      ]
     },
     "execution_count": 5,
     "metadata": {},
     "output_type": "execute_result"
    },
    {
     "data": {
      "image/png": "[encoded data removed]",
      "text/plain": [
       "<Figure size 432x288 with 1 Axes>"
      ]
     },
     "metadata": {
      "needs_background": "light"
     },
     "output_type": "display_data"
    }
   ],
   "source": [
    "slope_l, intercept_l = np.polyfit(dead_lift,squat,1)\n",
    "x_var_l = np.linspace(300,550,3)\n",
    "\n",
    "for index,row in df.iterrows():\n",
    "    _ = plt.plot(row['Dead Lift'], row['Squat'], marker='o',linestyle=None)\n",
    "\n",
    "_ = plt.xlabel('Dead Lift (lbs)', fontsize=15)\n",
    "_ = plt.ylabel('Squat (lbs)', fontsize=15)\n",
    "_ = plt.plot(x_var_l, slope_l*x_var_l + intercept_l, color='green')\n",
    "\n",
    "np.corrcoef(dead_lift, squat)[0,1]\n",
    "\n"
   ]
  },
  {
   "cell_type": "markdown",
   "metadata": {},
   "source": [
    "### Displaying an interesting relationship"
   ]
  },
  {
   "cell_type": "code",
   "execution_count": 6,
   "metadata": {},
   "outputs": [
    {
     "name": "stdout",
     "output_type": "stream",
     "text": [
      "0.7467509234434394\n"
     ]
    },
    {
     "data": {
      "image/png": "[encoded data removed]",
      "text/plain": [
       "<Figure size 432x288 with 1 Axes>"
      ]
     },
     "metadata": {
      "needs_background": "light"
     },
     "output_type": "display_data"
    }
   ],
   "source": [
    "slope_r, intercept_r = np.polyfit(ratio,exit_velocity,1)\n",
    "x_var_ratio = np.linspace(1,1.33,3)\n",
    "\n",
    "for index,row in df.iterrows():\n",
    "    _ = plt.plot(row['Ratio'], row['Exit Velocity'], marker='o',linestyle=None)\n",
    "    \n",
    "_ = plt.xlabel('Ratio (DL/S)', fontsize=15)\n",
    "_ = plt.ylabel('Exit Velocity (MPH)', fontsize=15)\n",
    "_ = plt.plot(x_var_ratio, slope_r*x_var_ratio + intercept_r, color='green')\n",
    "\n",
    "cor_matrix = np.corrcoef(ratio, exit_velocity)\n",
    "\n",
    "cor_coef = cor_matrix[0,1]\n",
    "\n",
    "print(cor_coef)"
   ]
  },
  {
   "cell_type": "markdown",
   "metadata": {},
   "source": [
    "### Cool, but maybe I just got lucky... how signifigant is this data"
   ]
  },
  {
   "cell_type": "markdown",
   "metadata": {},
   "source": [
    "From here:\n",
    "\n",
    "1. create a random sample of ratios and exit velocities in the same bounds with the same number of samples\n",
    "2. attain the correlation coefficents of each trial\n",
    "3. plot the corelation coeffictients on a histogram \n",
    "4. attain the p-value of the original data given assumptions\n",
    "5. reject or fail to reject null hypothesis based on CI"
   ]
  },
  {
   "cell_type": "code",
   "execution_count": 7,
   "metadata": {},
   "outputs": [
    {
     "name": "stdout",
     "output_type": "stream",
     "text": [
      "(100, 2)\n"
     ]
    }
   ],
   "source": [
    "import random \n",
    "\n",
    "np.random.seed(111)\n",
    "\n",
    "pool_ratio, pool_ev, size = np.linspace(1,1.33,100), np.linspace(75,97,100), 10\n",
    "\n",
    "sample_ratios = [] \n",
    "\n",
    "sample_ev = []\n",
    "\n",
    "for i in range(100):\n",
    "    x = np.random.choice(pool_ratio, size=size, replace=True)\n",
    "    sample_ratios.append(x)\n",
    "\n",
    "for i in range(100):\n",
    "    y = np.random.choice(pool_ev, size=size, replace=True)\n",
    "    sample_ev.append(y)\n",
    "\n",
    "ziptogether = zip(sample_ratios, sample_ev)\n",
    "    \n",
    "sdf = pd.DataFrame(ziptogether, columns = ['Sample Ratio', 'Sample EV'])\n",
    "\n",
    "print(sdf.shape)"
   ]
  },
  {
   "cell_type": "markdown",
   "metadata": {},
   "source": [
    "## Implimenting Monte Carlo Methods"
   ]
  },
  {
   "cell_type": "code",
   "execution_count": 8,
   "metadata": {},
   "outputs": [],
   "source": [
    "import random \n",
    "\n",
    "np.random.seed(111)\n",
    "\n",
    "pool_ratio, pool_ev, size = np.linspace(1,1.33,100), np.linspace(75,97,100), 10\n",
    "\n",
    "sample_ratios = [] \n",
    "\n",
    "sample_ev = []\n",
    "\n",
    "sample_cor_coeffs = []\n",
    "\n",
    "for i in range(10000):\n",
    "    x = np.random.choice(pool_ratio, size=size, replace=True)\n",
    "    sample_ratios.append(x)\n",
    "\n",
    "    y = np.random.choice(pool_ev, size=size, replace=True)\n",
    "    sample_ev.append(y)\n",
    "    \n",
    "    #_ = plt.plot(x,y,marker='o',linestyle=None)\n",
    "    \n",
    "    scc = np.corrcoef(x,y)[0,1]\n",
    "    sample_cor_coeffs.append(scc)\n",
    "    #print(scc)"
   ]
  },
  {
   "cell_type": "code",
   "execution_count": 9,
   "metadata": {},
   "outputs": [],
   "source": [
    "import itertools as IT\n",
    "\n",
    "sample_cor_coeffs = []\n",
    "\n",
    "for index,row in sdf.iterrows():\n",
    "    x,y = row[0],row[1]\n",
    "    scc = np.corrcoef(x,y)[0,1]\n",
    "    sample_cor_coeffs.append(scc)\n",
    "    "
   ]
  },
  {
   "cell_type": "code",
   "execution_count": 10,
   "metadata": {},
   "outputs": [
    {
     "name": "stdout",
     "output_type": "stream",
     "text": [
      "\n",
      " P-Value:  0.01\n"
     ]
    },
    {
     "data": {
      "image/png": "[encoded data removed]",
      "text/plain": [
       "<Figure size 432x288 with 1 Axes>"
      ]
     },
     "metadata": {
      "needs_background": "light"
     },
     "output_type": "display_data"
    }
   ],
   "source": [
    "#Plotting the corelation coefficients in a Histogram\n",
    "\n",
    "_ = plt.hist(sample_cor_coeffs, bins=30)\n",
    "_ = plt.axvline(x=0.7467509234434394, color='red')\n",
    "_ = plt.xlabel('Corellation Coefficients', fontsize=20)\n",
    "_ = plt.ylabel(\"Frequency\", fontsize=20)\n",
    "\n",
    "amt = np.array(sample_cor_coeffs) > 0.74675\n",
    "pval = sum(amt)/len(amt)\n",
    "print('\\n P-Value: ', pval)"
   ]
  },
  {
   "cell_type": "code",
   "execution_count": 11,
   "metadata": {},
   "outputs": [
    {
     "name": "stdout",
     "output_type": "stream",
     "text": [
      "95% Confidence:  [-0.57912802  0.65033077]\n",
      "98% Confidence:  [-0.71580712  0.68213089]\n",
      "My correlation coeff is: 0.7467509234434394\n"
     ]
    }
   ],
   "source": [
    "sample_cor_coeffs_array = np.array(sample_cor_coeffs)\n",
    "\n",
    "ci_95 = np.percentile(sample_cor_coeffs_array,[2.5,97.5])\n",
    "\n",
    "ci_98 = np.percentile(sample_cor_coeffs_array,[1,99])\n",
    "\n",
    "print(\"95% Confidence: \",ci_95)\n",
    "print(\"98% Confidence: \",ci_98)\n",
    "\n",
    "print('My correlation coeff is:',cor_coef)"
   ]
  },
  {
   "cell_type": "markdown",
   "metadata": {},
   "source": [
    "# Signifigance at high confidence levels calls for some biomecanical investigation"
   ]
  },
  {
   "cell_type": "code",
   "execution_count": null,
   "metadata": {},
   "outputs": [],
   "source": []
  }
 ],
 "metadata": {
  "kernelspec": {
   "display_name": "Python 3",
   "language": "python",
   "name": "python3"
  },
  "language_info": {
   "codemirror_mode": {
    "name": "ipython",
    "version": 3
   },
   "file_extension": ".py",
   "mimetype": "text/x-python",
   "name": "python",
   "nbconvert_exporter": "python",
   "pygments_lexer": "ipython3",
   "version": "3.7.4"
  }
 },
 "nbformat": 4,
 "nbformat_minor": 2
}
